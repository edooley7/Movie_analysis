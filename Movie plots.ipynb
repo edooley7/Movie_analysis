{
 "cells": [
  {
   "cell_type": "code",
   "execution_count": 298,
   "metadata": {
    "collapsed": false
   },
   "outputs": [],
   "source": [
    "import pickle\n",
    "import pandas as pd\n",
    "from patsy import dmatrices\n",
    "import statsmodels.api as sm\n",
    "import statsmodels.formula.api as smf\n",
    "from sklearn.linear_model import LinearRegression\n",
    "import numpy as np\n",
    "from numpy import arange\n",
    "import seaborn as sns\n",
    "import matplotlib.pyplot as plt\n",
    "%matplotlib inline"
   ]
  },
  {
   "cell_type": "code",
   "execution_count": 246,
   "metadata": {
    "collapsed": false
   },
   "outputs": [],
   "source": [
    "with open(\"movie_data.pkl\", 'r') as picklefile:\n",
    "     all_movies = pickle.load(picklefile)"
   ]
  },
  {
   "cell_type": "code",
   "execution_count": 366,
   "metadata": {
    "collapsed": false
   },
   "outputs": [
    {
     "data": {
      "text/plain": [
       "0      <bound method Series.item of 0      220000000\\...\n",
       "1      <bound method Series.item of 0      220000000\\...\n",
       "2      <bound method Series.item of 0      220000000\\...\n",
       "3      <bound method Series.item of 0      220000000\\...\n",
       "4      <bound method Series.item of 0      220000000\\...\n",
       "5      <bound method Series.item of 0      220000000\\...\n",
       "6      <bound method Series.item of 0      220000000\\...\n",
       "7      <bound method Series.item of 0      220000000\\...\n",
       "8      <bound method Series.item of 0      220000000\\...\n",
       "9      <bound method Series.item of 0      220000000\\...\n",
       "10     <bound method Series.item of 0      220000000\\...\n",
       "11     <bound method Series.item of 0      220000000\\...\n",
       "12     <bound method Series.item of 0      220000000\\...\n",
       "13     <bound method Series.item of 0      220000000\\...\n",
       "14     <bound method Series.item of 0      220000000\\...\n",
       "15     <bound method Series.item of 0      220000000\\...\n",
       "16     <bound method Series.item of 0      220000000\\...\n",
       "17     <bound method Series.item of 0      220000000\\...\n",
       "18     <bound method Series.item of 0      220000000\\...\n",
       "19     <bound method Series.item of 0      220000000\\...\n",
       "20     <bound method Series.item of 0      220000000\\...\n",
       "21     <bound method Series.item of 0      220000000\\...\n",
       "22     <bound method Series.item of 0      220000000\\...\n",
       "23     <bound method Series.item of 0      220000000\\...\n",
       "24     <bound method Series.item of 0      220000000\\...\n",
       "25     <bound method Series.item of 0      220000000\\...\n",
       "26     <bound method Series.item of 0      220000000\\...\n",
       "27     <bound method Series.item of 0      220000000\\...\n",
       "28     <bound method Series.item of 0      220000000\\...\n",
       "29     <bound method Series.item of 0      220000000\\...\n",
       "                             ...                        \n",
       "170    <bound method Series.item of 0      220000000\\...\n",
       "171    <bound method Series.item of 0      220000000\\...\n",
       "172    <bound method Series.item of 0      220000000\\...\n",
       "173    <bound method Series.item of 0      220000000\\...\n",
       "174    <bound method Series.item of 0      220000000\\...\n",
       "175    <bound method Series.item of 0      220000000\\...\n",
       "176    <bound method Series.item of 0      220000000\\...\n",
       "177    <bound method Series.item of 0      220000000\\...\n",
       "178    <bound method Series.item of 0      220000000\\...\n",
       "179    <bound method Series.item of 0      220000000\\...\n",
       "180    <bound method Series.item of 0      220000000\\...\n",
       "181    <bound method Series.item of 0      220000000\\...\n",
       "182    <bound method Series.item of 0      220000000\\...\n",
       "183    <bound method Series.item of 0      220000000\\...\n",
       "184    <bound method Series.item of 0      220000000\\...\n",
       "185    <bound method Series.item of 0      220000000\\...\n",
       "186    <bound method Series.item of 0      220000000\\...\n",
       "187    <bound method Series.item of 0      220000000\\...\n",
       "188    <bound method Series.item of 0      220000000\\...\n",
       "189    <bound method Series.item of 0      220000000\\...\n",
       "190    <bound method Series.item of 0      220000000\\...\n",
       "191    <bound method Series.item of 0      220000000\\...\n",
       "192    <bound method Series.item of 0      220000000\\...\n",
       "193    <bound method Series.item of 0      220000000\\...\n",
       "194    <bound method Series.item of 0      220000000\\...\n",
       "195    <bound method Series.item of 0      220000000\\...\n",
       "196    <bound method Series.item of 0      220000000\\...\n",
       "197    <bound method Series.item of 0      220000000\\...\n",
       "198    <bound method Series.item of 0      220000000\\...\n",
       "199    <bound method Series.item of 0      220000000\\...\n",
       "Name: budget, dtype: object"
      ]
     },
     "execution_count": 366,
     "metadata": {},
     "output_type": "execute_result"
    }
   ],
   "source": [
    "df = pd.DataFrame(all_movies)\n",
    "df['production_budget'] = df['production_budget']*1000000\n",
    "for item in df['imdb_budget']:\n",
    "    if df['imdb_budget'].item != 0:\n",
    "        df['budget'] = df['imdb_budget'].item\n",
    "    else:\n",
    "        df['budget'] = df['production_budget']\n",
    "df['ones'] = int(1)\n",
    "df['budget']\n"
   ]
  },
  {
   "cell_type": "markdown",
   "metadata": {
    "collapsed": false
   },
   "source": [
    "###Challenge 1\n",
    "\n",
    "Build a linear model that uses only a constant term (a column of ones) to predict a continuous outcome (like domestic total gross). How can you interpret the results of this model? What does it predict? Make a plot of predictions against actual outcome. Make a histogram of residuals. How are the residuals distributed?"
   ]
  },
  {
   "cell_type": "code",
   "execution_count": 338,
   "metadata": {
    "collapsed": false
   },
   "outputs": [],
   "source": [
    "y, X = dmatrices('domestic_gross ~ imdb_budget', data=df, return_type='dataframe')"
   ]
  },
  {
   "cell_type": "code",
   "execution_count": 339,
   "metadata": {
    "collapsed": false
   },
   "outputs": [
    {
     "data": {
      "text/html": [
       "<table class=\"simpletable\">\n",
       "<caption>OLS Regression Results</caption>\n",
       "<tr>\n",
       "  <th>Dep. Variable:</th>     <td>domestic_gross</td>  <th>  R-squared:         </th> <td>   0.466</td>\n",
       "</tr>\n",
       "<tr>\n",
       "  <th>Model:</th>                   <td>OLS</td>       <th>  Adj. R-squared:    </th> <td>   0.463</td>\n",
       "</tr>\n",
       "<tr>\n",
       "  <th>Method:</th>             <td>Least Squares</td>  <th>  F-statistic:       </th> <td>   172.9</td>\n",
       "</tr>\n",
       "<tr>\n",
       "  <th>Date:</th>             <td>Sun, 12 Jul 2015</td> <th>  Prob (F-statistic):</th> <td>8.60e-29</td>\n",
       "</tr>\n",
       "<tr>\n",
       "  <th>Time:</th>                 <td>14:34:29</td>     <th>  Log-Likelihood:    </th> <td> -3870.0</td>\n",
       "</tr>\n",
       "<tr>\n",
       "  <th>No. Observations:</th>      <td>   200</td>      <th>  AIC:               </th> <td>   7744.</td>\n",
       "</tr>\n",
       "<tr>\n",
       "  <th>Df Residuals:</th>          <td>   198</td>      <th>  BIC:               </th> <td>   7751.</td>\n",
       "</tr>\n",
       "<tr>\n",
       "  <th>Df Model:</th>              <td>     1</td>      <th>                     </th>     <td> </td>   \n",
       "</tr>\n",
       "<tr>\n",
       "  <th>Covariance Type:</th>      <td>nonrobust</td>    <th>                     </th>     <td> </td>   \n",
       "</tr>\n",
       "</table>\n",
       "<table class=\"simpletable\">\n",
       "<tr>\n",
       "       <td></td>          <th>coef</th>     <th>std err</th>      <th>t</th>      <th>P>|t|</th> <th>[95.0% Conf. Int.]</th> \n",
       "</tr>\n",
       "<tr>\n",
       "  <th>Intercept</th>   <td> 1.475e+07</td> <td> 5.13e+06</td> <td>    2.874</td> <td> 0.004</td> <td> 4.63e+06  2.49e+07</td>\n",
       "</tr>\n",
       "<tr>\n",
       "  <th>imdb_budget</th> <td>    1.0607</td> <td>    0.081</td> <td>   13.148</td> <td> 0.000</td> <td>    0.902     1.220</td>\n",
       "</tr>\n",
       "</table>\n",
       "<table class=\"simpletable\">\n",
       "<tr>\n",
       "  <th>Omnibus:</th>       <td>123.438</td> <th>  Durbin-Watson:     </th> <td>   1.162</td> \n",
       "</tr>\n",
       "<tr>\n",
       "  <th>Prob(Omnibus):</th> <td> 0.000</td>  <th>  Jarque-Bera (JB):  </th> <td>1403.709</td> \n",
       "</tr>\n",
       "<tr>\n",
       "  <th>Skew:</th>          <td> 2.115</td>  <th>  Prob(JB):          </th> <td>1.54e-305</td>\n",
       "</tr>\n",
       "<tr>\n",
       "  <th>Kurtosis:</th>      <td>15.270</td>  <th>  Cond. No.          </th> <td>7.50e+07</td> \n",
       "</tr>\n",
       "</table>"
      ],
      "text/plain": [
       "<class 'statsmodels.iolib.summary.Summary'>\n",
       "\"\"\"\n",
       "                            OLS Regression Results                            \n",
       "==============================================================================\n",
       "Dep. Variable:         domestic_gross   R-squared:                       0.466\n",
       "Model:                            OLS   Adj. R-squared:                  0.463\n",
       "Method:                 Least Squares   F-statistic:                     172.9\n",
       "Date:                Sun, 12 Jul 2015   Prob (F-statistic):           8.60e-29\n",
       "Time:                        14:34:29   Log-Likelihood:                -3870.0\n",
       "No. Observations:                 200   AIC:                             7744.\n",
       "Df Residuals:                     198   BIC:                             7751.\n",
       "Df Model:                           1                                         \n",
       "Covariance Type:            nonrobust                                         \n",
       "===============================================================================\n",
       "                  coef    std err          t      P>|t|      [95.0% Conf. Int.]\n",
       "-------------------------------------------------------------------------------\n",
       "Intercept    1.475e+07   5.13e+06      2.874      0.004      4.63e+06  2.49e+07\n",
       "imdb_budget     1.0607      0.081     13.148      0.000         0.902     1.220\n",
       "==============================================================================\n",
       "Omnibus:                      123.438   Durbin-Watson:                   1.162\n",
       "Prob(Omnibus):                  0.000   Jarque-Bera (JB):             1403.709\n",
       "Skew:                           2.115   Prob(JB):                    1.54e-305\n",
       "Kurtosis:                      15.270   Cond. No.                     7.50e+07\n",
       "==============================================================================\n",
       "\n",
       "Warnings:\n",
       "[1] Standard Errors assume that the covariance matrix of the errors is correctly specified.\n",
       "[2] The condition number is large, 7.5e+07. This might indicate that there are\n",
       "strong multicollinearity or other numerical problems.\n",
       "\"\"\""
      ]
     },
     "execution_count": 339,
     "metadata": {},
     "output_type": "execute_result"
    }
   ],
   "source": [
    "#X = sm.add_constant(X)\n",
    "model = sm.OLS(y, X)\n",
    "results = model.fit()\n",
    "results.summary()"
   ]
  },
  {
   "cell_type": "code",
   "execution_count": 340,
   "metadata": {
    "collapsed": false
   },
   "outputs": [
    {
     "data": {
      "text/html": [
       "<div>\n",
       "<table border=\"1\" class=\"dataframe\">\n",
       "  <thead>\n",
       "    <tr style=\"text-align: right;\">\n",
       "      <th></th>\n",
       "      <th>Intercept</th>\n",
       "      <th>imdb_budget</th>\n",
       "    </tr>\n",
       "  </thead>\n",
       "  <tbody>\n",
       "    <tr>\n",
       "      <th>0</th>\n",
       "      <td>1</td>\n",
       "      <td>220000000</td>\n",
       "    </tr>\n",
       "    <tr>\n",
       "      <th>1</th>\n",
       "      <td>1</td>\n",
       "      <td>250000000</td>\n",
       "    </tr>\n",
       "    <tr>\n",
       "      <th>2</th>\n",
       "      <td>1</td>\n",
       "      <td>78000000</td>\n",
       "    </tr>\n",
       "    <tr>\n",
       "      <th>3</th>\n",
       "      <td>1</td>\n",
       "      <td>200000000</td>\n",
       "    </tr>\n",
       "    <tr>\n",
       "      <th>4</th>\n",
       "      <td>1</td>\n",
       "      <td>180000000</td>\n",
       "    </tr>\n",
       "  </tbody>\n",
       "</table>\n",
       "</div>"
      ],
      "text/plain": [
       "   Intercept  imdb_budget\n",
       "0          1    220000000\n",
       "1          1    250000000\n",
       "2          1     78000000\n",
       "3          1    200000000\n",
       "4          1    180000000"
      ]
     },
     "execution_count": 340,
     "metadata": {},
     "output_type": "execute_result"
    }
   ],
   "source": [
    "X.head()"
   ]
  },
  {
   "cell_type": "code",
   "execution_count": 344,
   "metadata": {
    "collapsed": false
   },
   "outputs": [
    {
     "ename": "NameError",
     "evalue": "name 'imdb_budget' is not defined",
     "output_type": "error",
     "traceback": [
      "\u001b[0;31m---------------------------------------------------------------------------\u001b[0m",
      "\u001b[0;31mNameError\u001b[0m                                 Traceback (most recent call last)",
      "\u001b[0;32m<ipython-input-344-2f879489500c>\u001b[0m in \u001b[0;36m<module>\u001b[0;34m()\u001b[0m\n\u001b[0;32m----> 1\u001b[0;31m \u001b[0mX_prime\u001b[0m \u001b[0;34m=\u001b[0m \u001b[0mnp\u001b[0m\u001b[0;34m.\u001b[0m\u001b[0mlinspace\u001b[0m\u001b[0;34m(\u001b[0m\u001b[0mX\u001b[0m\u001b[0;34m.\u001b[0m\u001b[0mimdb_budget\u001b[0m\u001b[0;34m.\u001b[0m\u001b[0mmin\u001b[0m\u001b[0;34m(\u001b[0m\u001b[0;34m)\u001b[0m\u001b[0;34m,\u001b[0m \u001b[0mimdb_budget\u001b[0m\u001b[0;34m.\u001b[0m\u001b[0mmax\u001b[0m\u001b[0;34m(\u001b[0m\u001b[0;34m)\u001b[0m\u001b[0;34m,\u001b[0m \u001b[0;36m100\u001b[0m\u001b[0;34m)\u001b[0m\u001b[0;34m[\u001b[0m\u001b[0;34m:\u001b[0m\u001b[0;34m,\u001b[0m \u001b[0mnp\u001b[0m\u001b[0;34m.\u001b[0m\u001b[0mnewaxis\u001b[0m\u001b[0;34m]\u001b[0m\u001b[0;34m\u001b[0m\u001b[0m\n\u001b[0m\u001b[1;32m      2\u001b[0m \u001b[0mX_prime\u001b[0m \u001b[0;34m=\u001b[0m \u001b[0msm\u001b[0m\u001b[0;34m.\u001b[0m\u001b[0madd_constant\u001b[0m\u001b[0;34m(\u001b[0m\u001b[0mX_prime\u001b[0m\u001b[0;34m)\u001b[0m  \u001b[0;31m# add constant as we did before\u001b[0m\u001b[0;34m\u001b[0m\u001b[0m\n\u001b[1;32m      3\u001b[0m \u001b[0my_hat\u001b[0m \u001b[0;34m=\u001b[0m \u001b[0mresults\u001b[0m\u001b[0;34m.\u001b[0m\u001b[0mpredict\u001b[0m\u001b[0;34m(\u001b[0m\u001b[0mX_prime\u001b[0m\u001b[0;34m)\u001b[0m\u001b[0;34m\u001b[0m\u001b[0m\n",
      "\u001b[0;31mNameError\u001b[0m: name 'imdb_budget' is not defined"
     ]
    }
   ],
   "source": [
    "X_prime = np.linspace(X.imdb_budget.min(), imdb_budget.max(), 100)[:, np.newaxis]\n",
    "X_prime = sm.add_constant(X_prime)  # add constant as we did before\n",
    "y_hat = results.predict(X_prime)"
   ]
  },
  {
   "cell_type": "code",
   "execution_count": 343,
   "metadata": {
    "collapsed": false
   },
   "outputs": [
    {
     "data": {
      "text/plain": [
       "[<matplotlib.lines.Line2D at 0x10e3b6310>]"
      ]
     },
     "execution_count": 343,
     "metadata": {},
     "output_type": "execute_result"
    },
    {
     "data": {
      "image/png": "[encoded data removed]",
      "text/plain": [
       "<matplotlib.figure.Figure at 0x10e3b6390>"
      ]
     },
     "metadata": {},
     "output_type": "display_data"
    }
   ],
   "source": [
    "plt.scatter(X.imdb_budget, y, alpha=0.3)  # Plot the raw data\n",
    "plt.xlabel(\"Rating\")\n",
    "plt.ylabel(\"Domestic Gross\")\n",
    "plt.plot(X_prime[:, 1], y_hat, 'r', alpha=0.9)"
   ]
  },
  {
   "cell_type": "code",
   "execution_count": 345,
   "metadata": {
    "collapsed": false
   },
   "outputs": [
    {
     "data": {
      "text/plain": [
       "<matplotlib.axes._subplots.AxesSubplot at 0x10e419ad0>"
      ]
     },
     "execution_count": 345,
     "metadata": {},
     "output_type": "execute_result"
    },
    {
     "data": {
      "image/png": "[encoded data removed]",
      "text/plain": [
       "<matplotlib.figure.Figure at 0x10e447350>"
      ]
     },
     "metadata": {},
     "output_type": "display_data"
    }
   ],
   "source": [
    "sns.residplot(X.imdb_budget,y)"
   ]
  },
  {
   "cell_type": "code",
   "execution_count": null,
   "metadata": {
    "collapsed": true
   },
   "outputs": [],
   "source": []
  },
  {
   "cell_type": "markdown",
   "metadata": {},
   "source": [
    "###Challenge 2\n",
    "\n",
    "Repeat the process of challenge one, but also add one continuous (numeric) predictor variable. Also add plots of model prediction against your feature variable and residuals against feature variable. How can you interpret what's happening in the model?\n",
    "\n",
    "###Challenge 3\n",
    "\n",
    "Repeat the process of challenge 1, but add a categorical feature (like genre). You'll have to convert a column of text into a number of numerical columns (\"dummy variables\"). How can you interpret what's happening in the model?\n",
    "\n",
    "###Challenge 4\n",
    "\n",
    "Enhance your model further by adding more features and/or transforming existing features. Think about how you build the model matrix and how to interpret what the model is doing.\n",
    "\n",
    "###Challenge 5\n",
    "\n",
    "Fitting and checking predictions on the exact same data set can be misleading. Divide your data into two sets: a training and a test set (roughly 75% training, 25% test is a fine split). Fit a model on the training set, check the predictions (by plotting versus actual values) in the test set."
   ]
  },
  {
   "cell_type": "code",
   "execution_count": null,
   "metadata": {
    "collapsed": true
   },
   "outputs": [],
   "source": []
  }
 ],
 "metadata": {
  "kernelspec": {
   "display_name": "Python 2",
   "language": "python",
   "name": "python2"
  },
  "language_info": {
   "codemirror_mode": {
    "name": "ipython",
    "version": 2
   },
   "file_extension": ".py",
   "mimetype": "text/x-python",
   "name": "python",
   "nbconvert_exporter": "python",
   "pygments_lexer": "ipython2",
   "version": "2.7.10"
  }
 },
 "nbformat": 4,
 "nbformat_minor": 0
}
